{
 "cells": [
  {
   "cell_type": "code",
   "execution_count": 2,
   "metadata": {},
   "outputs": [
    {
     "name": "stdout",
     "output_type": "stream",
     "text": [
      "EXPORT (1).xlsx\n",
      "(2406, 82)\n",
      "(2406, 82)\n",
      "(2406, 82)\n"
     ]
    }
   ],
   "source": [
    "# -*- coding: utf-8 -*-\n",
    "\"\"\"\n",
    "Created on Mon Jun  6 15:38:52 2022\n",
    "\n",
    "@author: DHERNANDEZS\n",
    "\"\"\"\n",
    "\n",
    "\n",
    "import pandas as pd\n",
    "\n",
    "i = 0\n",
    "for i in range(0,1):\n",
    "    i = i+1\n",
    "    j = str(i)\n",
    "    print('EXPORT ('+j+').xlsx')\n",
    "    ruta = r'C:\\Users\\GDDIAZ\\Downloads\\EXPORT ('+j+').xlsx'\n",
    "    pe = pd.read_excel(ruta,header=7)\n",
    "    pe=pe[0:10000]\n",
    "    print(pe.shape)\n",
    "    if i == 1:\n",
    "        BaseTC = pe\n",
    "        print(BaseTC.shape)\n",
    "    else:\n",
    "        BaseTC = pd.concat([BaseTC,pe])\n",
    "        print(BaseTC.shape)\n",
    "print(BaseTC.shape)\n",
    "BaseTC.head()\n",
    "BaseTC=BaseTC[0:133704]\n",
    "\n",
    "\n",
    "\n",
    "import numpy as np\n",
    "\n",
    "#BaseTC['Número de Identificación de la compañía']=BaseTC['Número de Identificación de la compañía'].str.slice(7,)\n",
    "\n",
    "#BaseTC['CO-NIT']=np.where(BaseTC['CO-NIT'].isna()==True,BaseTC['Número de Identificación de la compañía'],BaseTC['CO-NIT'])\n",
    "\n",
    "BaseTC=BaseTC.drop(['ISIN', 'Ticker Symbol'],axis=1)\n",
    "list_columns = BaseTC.columns.to_list()\n",
    "list_new_columns = []\n",
    "for item in list_columns:\n",
    "    item = str(item)\n",
    "    item = item.replace('-', '')\n",
    "    item = item.replace('(', '')\n",
    "    item = item.replace(')', '')\n",
    "    item = item.replace(':', '')\n",
    "    item = item.replace('/', ' ')\n",
    "    item = item.replace('.', '')\n",
    "    item = item.replace(',', '')\n",
    "    item = item.replace('\\n', ' ')\n",
    "    item = item.replace('\\t', ' ')\n",
    "    item = item.replace('  ', ' ')\n",
    "    item = item.strip()\n",
    "    item = item.replace(' ', '_')\n",
    "    item = item.lower()\n",
    "    item = item.replace('á', 'a')\n",
    "    item = item.replace('é', 'e')\n",
    "    item = item.replace('í', 'i')\n",
    "    item = item.replace('ó', 'o')\n",
    "    item = item.replace('ú', 'u')\n",
    "    item = item.replace('ñ', 'n')\n",
    "    item = item.replace('__', '_')\n",
    "    list_new_columns.append(item)\n",
    "BaseTC.columns = list_new_columns\n",
    "\n",
    "#BaseTC.to_csv('Emis_FY2021V4.csv',index=None,sep='|',encoding='Latin-1')\n",
    "BaseTC.to_excel(r'C:\\Users\\GDDIAZ\\Downloads\\emis_B20242.xlsx',index=None)"
   ]
  },
  {
   "cell_type": "code",
   "execution_count": 2,
   "metadata": {},
   "outputs": [],
   "source": [
    "ruta = r'C:\\Users\\GDDIAZ\\Downloads\\modelosanaliticos_temporal_emis_B20222.xlsx'\n",
    "pe = pd.read_excel(ruta)"
   ]
  },
  {
   "cell_type": "code",
   "execution_count": 3,
   "metadata": {},
   "outputs": [],
   "source": [
    "rename_columns = {'sector_emis_industries' : 'sector_emis_14',\n",
    "                  'numero_de_empleados' : 'numero_empleados',\n",
    "                  'cotizada_no_cotizada' : 'listada_nolistada',\n",
    "                  'total_de_patrimonio' : 'total_patrimonio',\n",
    "                  'gastos_de_depreciacion_amortizacion_y_deterioro' : 'gastos_depreciacion_amortizacion_y_deterioro',\n",
    "                  'rendimiento_sobre_los_activos_roa_%' : 'rendimiento_sobre_activos_roa',\n",
    "                  'rendimiento_sobre_patrimonio_roe' : 'rendimiento_sobre_el_patrimonio_roe_%',\n",
    "                  'margen_neto' : 'margen_neto_%',\n",
    "                  'rendimiento_sobre_el_capital_empleado_%' : 'rendimiento_sobre_capital_empleado',\n",
    "                  'margen_de_ganancia_bruta_%' : 'margen_ganancia_bruta',\n",
    "                  'margen_operacional_%' : 'margen_operacional' ,\n",
    "                  'rotacion_de_cuentas_por_cobrar_x' : 'rotacion_cuentas_por_cobrar', \n",
    "                  'rotacion_de_inventario_x' : 'rotacion_inventario',\n",
    "                  'rotacion_del_activo_corriente_x' : 'rotacion_activo_corriente',\n",
    "                  'rotacion_del_activo_no_corriente_x' : 'rotacion_activo_no_corriente' ,\n",
    "                  'rotacion_de_activos_x' : 'rotacion_activos' ,\n",
    "                  'razon_de_liquidez_x' : 'razon_de_liquidez' ,\n",
    "                  'prueba_acida_x' : 'prueba_acida' , \n",
    "                  'razon_de_efectivo_x' : 'razon_de_efectivo',\n",
    "                  'relacion_activos_patrimonio_%' : 'relacion_activos_sobre_patrimonio',\n",
    "                  'relacion_deuda_capital_%' : 'relacion_deuda_sobre_capital' , \n",
    "                  'relacion_deuda_activos_totales_%' : 'relacion_deuda_sobre_activos_totales',\n",
    "                  'relacion_deuda_largo_plazo_capital_empleado_%' : 'relacion_deuda_largo_plazo_sobre_capital_empleado',\n",
    "                  'relacion_deuda_valor_de_la_empresa_%' : 'relacion_deuda_sobre_valor_empresa' ,\n",
    "                  'tendencia_de_los_ingresos_netos_%' : 'tendencia_ingresos_netos' ,\n",
    "                  'tendencia_de_la_utilidad_operacional_%' : 'tendencia_utilidad_operacional',\n",
    "                  'tendencia_de_la_utilidad_neta_%' : 'tendencia_utilidad_neta',\n",
    "                  'relacion_valor_de_empresa_ebitda_x' : 'relacion_valor_empresa_sobre_ebitda',\n",
    "                  'relacion_valor_de_empresa_ventas_x' : 'relacion_valor_empresa_sobre_ventas' ,\n",
    "                  'relacion_valor_de_empresa_ebit_x' : 'relacion_valor_empresa_sobre_ebit' ,\n",
    "                  'relacion_capitalizacion_bursatil_relacion_precioventas_x' : 'relacion_capitalizacion_bursatil_sobre_relacion_precio_ventas' ,\n",
    "                  'razon_capitalizacion_de_mercado_ebitda' : 'razon_capitalizacion_mercado_sobre_ebitda' ,\n",
    "                  'nit' : 'conit'\n",
    "                 }"
   ]
  },
  {
   "cell_type": "code",
   "execution_count": 4,
   "metadata": {},
   "outputs": [],
   "source": [
    "df = pe.rename(columns = rename_columns)"
   ]
  },
  {
   "cell_type": "code",
   "execution_count": 5,
   "metadata": {},
   "outputs": [],
   "source": [
    "df.to_excel(r'C:\\Users\\GDDIAZ\\Downloads\\modelosanaliticos_temporal_emis_B20232.xlsx',index=None)"
   ]
  },
  {
   "cell_type": "code",
   "execution_count": null,
   "metadata": {},
   "outputs": [],
   "source": []
  }
 ],
 "metadata": {
  "kernelspec": {
   "display_name": "Python 3",
   "language": "python",
   "name": "python3"
  },
  "language_info": {
   "codemirror_mode": {
    "name": "ipython",
    "version": 3
   },
   "file_extension": ".py",
   "mimetype": "text/x-python",
   "name": "python",
   "nbconvert_exporter": "python",
   "pygments_lexer": "ipython3",
   "version": "3.9.4"
  }
 },
 "nbformat": 4,
 "nbformat_minor": 4
}
